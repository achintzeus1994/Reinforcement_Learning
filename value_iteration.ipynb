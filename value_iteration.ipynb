{
 "cells": [
  {
   "cell_type": "code",
   "execution_count": 1,
   "metadata": {},
   "outputs": [],
   "source": [
    "import numpy as np"
   ]
  },
  {
   "cell_type": "code",
   "execution_count": 28,
   "metadata": {},
   "outputs": [],
   "source": [
    "## Initializing MDP\n",
    "actions = ['L', 'R']\n",
    "noa = 2\n",
    "nos = 4\n",
    "gamma = 0.25\n",
    "delta = 0.01\n",
    "## R[current state][action(L),action(R)]\n",
    "R       = [[-1,-1],\n",
    "           [-1,-1],\n",
    "           [-1,-1]]\n",
    "## Transition probabiliites, P[current state][new state][action]\n",
    "T =[ [[0.8,0.2],[0.2,0.8],[0,0],    [0,0]],       #current state = 0 \n",
    "     [[0.8,0.2],[0,0],    [0.2,0.8],[0,0]],         #current state = 1\n",
    "     [[0,0],    [0.8,0.2],[0,0],    [0.2,0.8]]         #current state = 2\n",
    "   ]\n",
    "V = [0, 0, 0, 10]"
   ]
  },
  {
   "cell_type": "code",
   "execution_count": 30,
   "metadata": {},
   "outputs": [
    {
     "name": "stdout",
     "output_type": "stream",
     "text": [
      "Iteration|0|1|2|3|Maximum difference\n",
      "0|-1.0|-0.85|1.0|10|0\n",
      "1|-1.22|-0.85|0.9575|10|0.21999999999999997\n",
      "2|-1.231|-0.8694999999999999|0.9575|10|0.019499999999999962\n"
     ]
    }
   ],
   "source": [
    "max_diff = 0\n",
    "\n",
    "print('Iteration', '0', '1', '2', '3', 'Maximum difference', sep=\"|\")\n",
    "for time in range(0, 30):\n",
    "    print(time, V[0], V[1], V[2], V[3], max_diff, sep=\"|\")\n",
    "    Vnew = [-1e9, -1e9, -1e9,10]\n",
    "    for i in range(nos-1):\n",
    "        for a in range(noa):\n",
    "            current_val = 0\n",
    "            for j in range(nos):\n",
    "                current_val += gamma*T[i][j][a]*V[j]\n",
    "            current_val += R[i][a] \n",
    "        Vnew[i] = max(Vnew[i],current_val)\n",
    "    max_diff = 0\n",
    "    for i in range(4):\n",
    "        max_diff = max(max_diff, abs(V[i]-Vnew[i]))\n",
    "    V = Vnew\n",
    "    if(max_diff < delta):\n",
    "        break"
   ]
  },
  {
   "cell_type": "code",
   "execution_count": 33,
   "metadata": {},
   "outputs": [],
   "source": [
    "# one final iteration to determine the policy\n",
    "Vnew = [-1e9, -1e9, -1e9, 10]\n",
    "policy = ['NA', 'NA', 'NA', 'NA']\n",
    "for i in range(nos-1):\n",
    "        for a in range(noa):\n",
    "            current_val = 0\n",
    "            for j in range(nos):\n",
    "                current_val += gamma*T[i][j][a]*V[j]\n",
    "            current_val += R[i][a] \n",
    "            if(Vnew[i] < current_val):\n",
    "                policy[i] = actions[a]\n",
    "                Vnew[i] = max(Vnew[i], current_val)"
   ]
  },
  {
   "cell_type": "code",
   "execution_count": 35,
   "metadata": {},
   "outputs": [
    {
     "name": "stdout",
     "output_type": "stream",
     "text": [
      "The policy is: ['R', 'R', 'R', 'NA']\n"
     ]
    }
   ],
   "source": [
    "print(\"The policy is:\", policy)\n"
   ]
  },
  {
   "cell_type": "code",
   "execution_count": null,
   "metadata": {},
   "outputs": [],
   "source": []
  }
 ],
 "metadata": {
  "kernelspec": {
   "display_name": "achint-env",
   "language": "python",
   "name": "achint-env"
  },
  "language_info": {
   "codemirror_mode": {
    "name": "ipython",
    "version": 3
   },
   "file_extension": ".py",
   "mimetype": "text/x-python",
   "name": "python",
   "nbconvert_exporter": "python",
   "pygments_lexer": "ipython3",
   "version": "3.7.0"
  }
 },
 "nbformat": 4,
 "nbformat_minor": 2
}
